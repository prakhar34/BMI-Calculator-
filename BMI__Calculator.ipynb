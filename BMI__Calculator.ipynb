{
 "cells": [
  {
   "cell_type": "markdown",
   "id": "424cb052",
   "metadata": {},
   "source": [
    "# BMI Calculator"
   ]
  },
  {
   "cell_type": "code",
   "execution_count": 35,
   "id": "f7c3f889",
   "metadata": {},
   "outputs": [
    {
     "name": "stdout",
     "output_type": "stream",
     "text": [
      "Enter your name: alex\n",
      "Enter your weight in pounds: 170\n",
      "Enter your height in inches: 69\n",
      "25.101869355177485\n",
      "alex , you are overweight. You need to excercise more\n"
     ]
    }
   ],
   "source": [
    "name = input(\"Enter your name: \")\n",
    "\n",
    "weight = int(input(\"Enter your weight in pounds: \"))\n",
    "\n",
    "height = int(input(\"Enter your height in inches: \"))\n",
    "\n",
    "BMI = (weight * 703) / (height * height)\n",
    "\n",
    "print(BMI)\n",
    "\n",
    "if BMI>0:\n",
    "    if(BMI<18.5):\n",
    "            print(name+\" , you are Underweight\")\n",
    "    elif (BMI<=24.9):\n",
    "            print(name+\" , you are normal weight\")\n",
    "    elif (BMI<29.9):\n",
    "            print(name+\" , you are overweight. You need to excercise more\")\n",
    "    elif (BMI<34.9):\n",
    "            print(name+\" , you are obese\")\n",
    "    elif (BMI<39.9):\n",
    "            print(name+\" , you are severly obese\")\n",
    "    else:\n",
    "            print(name+\" , you are morbidly obese\")\n",
    "            \n",
    "else:\n",
    "    print(\"Enter valid input\")"
   ]
  },
  {
   "cell_type": "code",
   "execution_count": 32,
   "id": "dfe5c06b",
   "metadata": {},
   "outputs": [
    {
     "name": "stdout",
     "output_type": "stream",
     "text": [
      "alex , you are overweight\n"
     ]
    }
   ],
   "source": [
    "if BMI>0:\n",
    "    if(BMI<18.5):\n",
    "            print(name+\" , you are Underweight\")\n",
    "    elif (BMI<=24.9):\n",
    "            print(name+\" , you are normal weight\")\n",
    "    elif (BMI<29.9):\n",
    "            print(name+\" , you are overweight\")\n",
    "    elif (BMI<34.9):\n",
    "            print(name+\" , you are obese\")\n",
    "    elif (BMI<39.9):\n",
    "            print(name+\" , you are severly obese\")\n",
    "    else:\n",
    "            print(name+\" , you are morbidly obese\")\n",
    "            \n",
    "else:\n",
    "    print(\"Enter valid input\")"
   ]
  },
  {
   "cell_type": "code",
   "execution_count": null,
   "id": "d7f88c86",
   "metadata": {},
   "outputs": [],
   "source": []
  },
  {
   "cell_type": "code",
   "execution_count": null,
   "id": "7b06a22c",
   "metadata": {},
   "outputs": [],
   "source": []
  },
  {
   "cell_type": "code",
   "execution_count": null,
   "id": "db8471b3",
   "metadata": {},
   "outputs": [],
   "source": []
  },
  {
   "cell_type": "code",
   "execution_count": null,
   "id": "e418b586",
   "metadata": {},
   "outputs": [],
   "source": []
  },
  {
   "cell_type": "code",
   "execution_count": null,
   "id": "050c6271",
   "metadata": {},
   "outputs": [],
   "source": []
  },
  {
   "cell_type": "code",
   "execution_count": null,
   "id": "12b5fcbf",
   "metadata": {},
   "outputs": [],
   "source": []
  },
  {
   "cell_type": "code",
   "execution_count": null,
   "id": "3eb6d825",
   "metadata": {},
   "outputs": [],
   "source": []
  }
 ],
 "metadata": {
  "kernelspec": {
   "display_name": "Python 3 (ipykernel)",
   "language": "python",
   "name": "python3"
  },
  "language_info": {
   "codemirror_mode": {
    "name": "ipython",
    "version": 3
   },
   "file_extension": ".py",
   "mimetype": "text/x-python",
   "name": "python",
   "nbconvert_exporter": "python",
   "pygments_lexer": "ipython3",
   "version": "3.9.13"
  }
 },
 "nbformat": 4,
 "nbformat_minor": 5
}
